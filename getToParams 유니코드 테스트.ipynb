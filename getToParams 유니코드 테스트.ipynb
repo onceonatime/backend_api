{
 "cells": [
  {
   "cell_type": "code",
   "execution_count": 8,
   "metadata": {},
   "outputs": [],
   "source": [
    "import xml.etree.ElementTree as ET\n",
    "import urllib.request\n",
    "import json"
   ]
  },
  {
   "cell_type": "code",
   "execution_count": 21,
   "metadata": {},
   "outputs": [],
   "source": [
    "def getToParams(URL, *args, **kwargs):\n",
    "    PARAMS = \"\"\n",
    "    \n",
    "    for key, val in kwargs.items():\n",
    "        PARAMS = PARAMS + key + \"=\" + val + \"&\"\n",
    "        \n",
    "    URL = URL + PARAMS\n",
    "    print(URL)\n",
    "    result = urllib.request.urlopen(URL)\n",
    "    print(result)\n",
    "    targetXML = result.read().decode('utf-8')\n",
    "    root = ET.fromstring(targetXML)\n",
    "    item =root.find('./item')\n",
    "    item_dict = {\n",
    "                    'ccbaMnm1':item.find('./ccbaMnm1').text,\n",
    "                    'ccbaLcad':item.find('./ccbaLcad').text.strip(),\n",
    "                    'content' :item.find('./content').text,\n",
    "                    }\n",
    "    return item_dict"
   ]
  },
  {
   "cell_type": "code",
   "execution_count": 2,
   "metadata": {},
   "outputs": [],
   "source": [
    "URL = \"http://www.cha.go.kr/cha/SearchKindOpenapiDt.do?\""
   ]
  },
  {
   "cell_type": "code",
   "execution_count": 26,
   "metadata": {},
   "outputs": [
    {
     "name": "stdout",
     "output_type": "stream",
     "text": [
      "http://www.cha.go.kr/cha/SearchImageOpenapi.do?ccbaKdcd=11&ccbaAsno=00030000&ccbaCtcd=11&\n",
      "5\n",
      "imageUrl\n",
      "http://www.cha.go.kr/unisearch/images/national_treasure/1611458.jpg\n"
     ]
    }
   ],
   "source": [
    "getToParams(URL,ccbaKdcd=\"11\",ccbaAsno=\"00030000\",ccbaCtcd=\"11\")"
   ]
  },
  {
   "cell_type": "code",
   "execution_count": 22,
   "metadata": {},
   "outputs": [
    {
     "name": "stdout",
     "output_type": "stream",
     "text": [
      "http://www.cha.go.kr/cha/SearchKindOpenapiDt.do?ccbaKdcd=11&ccbaAsno=00030000&ccbaCtcd=11&\n",
      "<http.client.HTTPResponse object at 0x7fe530e376d8>\n"
     ]
    },
    {
     "data": {
      "text/plain": [
       "{'ccbaMnm1': '서울 북한산 신라 진흥왕 순수비',\n",
       " 'ccbaLcad': '서울 용산구 서빙고로 137, 국립중앙박물관 (용산동6가)',\n",
       " 'content': '신라 진흥왕(재위 540∼576)이 세운 순수척경비(巡狩拓境碑) 가운데 하나로, 한강유역을 영토로 편입한 뒤 왕이 이 지역을 방문한 것을 기념하기 위하여 세운 것이다. 원래는 북한산 비봉에 자리하고 있었으나 비(碑)를 보존하기 위하여 경복궁에 옮겨 놓았다가 현재는 국립중앙박물관에 보관되어 있다. \\n 비의 형태는 직사각형의 다듬어진 돌을 사용하였으며, 자연암반 위에 2단의 층을 만들고 세웠다. 윗부분이 일부 없어졌는데, 현재 남아 있는 비몸의 크기는 높이 1.54m, 너비 69㎝이며, 비에 쓰여져 있는 글은 모두 12행으로 행마다 32자가 해서체로 새겨져 있다. 내용으로는 왕이 지방을 방문하는 목적과 비를 세우게 된 까닭 등이 기록되어 있는데, 대부분이 진흥왕의 영토확장을 찬양하는 내용으로 이루어져 있다.\\n 비의 건립연대는 비문에 새겨진 연호가 닳아 없어져 확실하지 않으나, 창녕 신라 진흥황 척경비(국보 33호)가 건립된 진흥왕 22년(561)과 황초령비가 세워진 진흥왕 29년(568) 사이에 세워졌거나 그 이후로 짐작하고 있다.\\n 조선 순조 16년(1816)에 추사 김정희가 발견하고 판독하여 세상에 알려졌으며, 비에 새겨진 당시의 역사적 사실 등은 삼국시대의 역사를 연구하는데 귀중한 자료가 되고 있다.'}"
      ]
     },
     "execution_count": 22,
     "metadata": {},
     "output_type": "execute_result"
    }
   ],
   "source": [
    "getToParams(URL,ccbaKdcd=\"11\",ccbaAsno=\"00030000\",ccbaCtcd=\"11\")"
   ]
  }
 ],
 "metadata": {
  "kernelspec": {
   "display_name": "Django Shell-Plus",
   "language": "python",
   "name": "django_extensions"
  },
  "language_info": {
   "codemirror_mode": {
    "name": "ipython",
    "version": 3
   },
   "file_extension": ".py",
   "mimetype": "text/x-python",
   "name": "python",
   "nbconvert_exporter": "python",
   "pygments_lexer": "ipython3",
   "version": "3.6.7"
  }
 },
 "nbformat": 4,
 "nbformat_minor": 2
}
