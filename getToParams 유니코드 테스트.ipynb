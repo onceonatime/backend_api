{
 "cells": [
  {
   "cell_type": "code",
   "execution_count": 1,
   "metadata": {},
   "outputs": [],
   "source": [
    "import xml.etree.ElementTree as ET\n",
    "import urllib.request\n",
    "import json"
   ]
  },
  {
   "cell_type": "code",
   "execution_count": 39,
   "metadata": {},
   "outputs": [],
   "source": [
    "def getToParams(URL, *args, **kwargs):\n",
    "    PARAMS = \"\"\n",
    "    \n",
    "    for key, val in kwargs.items():\n",
    "        PARAMS = PARAMS + key + \"=\" + val + \"&\"\n",
    "        \n",
    "    URL = URL + PARAMS\n",
    "    print(URL)\n",
    "    targetXML = urllib.request.urlopen(URL).read().decode('utf-8')\n",
    "    root = ET.fromstring(targetXML)\n",
    "    print(root.find('totalCnt').text)\n",
    "    item_length = int(root.find('totalCnt').text)\n",
    "    item = root.find('item')\n",
    "    ccimDesc = item.findall('ccimDesc')\n",
    "    imageUrl = item.findall('imageUrl')\n",
    "    item_list = []\n",
    "    for item in range(item_length):\n",
    "        item_dict = {\n",
    "            'imageUrl':imageUrl[item].text,\n",
    "            'ccimDesc':ccimDesc[item].text\n",
    "        }\n",
    "        item_list.append(item_dict)\n",
    "    item_list = json.dumps(item_list, ensure_ascii=False)\n",
    "\n",
    "    return item_list"
   ]
  },
  {
   "cell_type": "code",
   "execution_count": 13,
   "metadata": {},
   "outputs": [],
   "source": [
    "URL = \"http://www.cha.go.kr/cha/SearchImageOpenapi.do?\""
   ]
  },
  {
   "cell_type": "code",
   "execution_count": 26,
   "metadata": {},
   "outputs": [
    {
     "name": "stdout",
     "output_type": "stream",
     "text": [
      "http://www.cha.go.kr/cha/SearchImageOpenapi.do?ccbaKdcd=11&ccbaAsno=00030000&ccbaCtcd=11&\n",
      "5\n",
      "imageUrl\n",
      "http://www.cha.go.kr/unisearch/images/national_treasure/1611458.jpg\n"
     ]
    }
   ],
   "source": [
    "getToParams(URL,ccbaKdcd=\"11\",ccbaAsno=\"00030000\",ccbaCtcd=\"11\")"
   ]
  },
  {
   "cell_type": "code",
   "execution_count": 40,
   "metadata": {},
   "outputs": [
    {
     "name": "stdout",
     "output_type": "stream",
     "text": [
      "http://www.cha.go.kr/cha/SearchImageOpenapi.do?ccbaKdcd=11&ccbaAsno=00030000&ccbaCtcd=11&\n",
      "5\n"
     ]
    },
    {
     "data": {
      "text/plain": [
       "'[{\"imageUrl\": \"http://www.cha.go.kr/unisearch/images/national_treasure/1611458.jpg\", \"ccimDesc\": \"서울 북한산 신라 진흥왕 순수비 근접 이미지\"}, {\"imageUrl\": \"http://www.cha.go.kr/unisearch/images/national_treasure/1611459.jpg\", \"ccimDesc\": \"서울 북한산 신라 진흥왕 순수비 측면 비문\"}, {\"imageUrl\": \"http://www.cha.go.kr/unisearch/images/national_treasure/1611460.jpg\", \"ccimDesc\": \"서울 북한산 신라 진흥왕 순수비 탁본\"}, {\"imageUrl\": \"http://www.cha.go.kr/unisearch/images/national_treasure/1611461.jpg\", \"ccimDesc\": \"서울 북한산 신라 진흥왕 순수비(비봉, 원위치)\"}, {\"imageUrl\": \"http://www.cha.go.kr/unisearch/images/national_treasure/1611462.jpg\", \"ccimDesc\": \"서울 북한산 신라 진흥왕 순수비\"}]'"
      ]
     },
     "execution_count": 40,
     "metadata": {},
     "output_type": "execute_result"
    }
   ],
   "source": [
    "getToParams(URL,ccbaKdcd=\"11\",ccbaAsno=\"00030000\",ccbaCtcd=\"11\")"
   ]
  }
 ],
 "metadata": {
  "kernelspec": {
   "display_name": "Django Shell-Plus",
   "language": "python",
   "name": "django_extensions"
  },
  "language_info": {
   "codemirror_mode": {
    "name": "ipython",
    "version": 3
   },
   "file_extension": ".py",
   "mimetype": "text/x-python",
   "name": "python",
   "nbconvert_exporter": "python",
   "pygments_lexer": "ipython3",
   "version": "3.6.7"
  }
 },
 "nbformat": 4,
 "nbformat_minor": 2
}
